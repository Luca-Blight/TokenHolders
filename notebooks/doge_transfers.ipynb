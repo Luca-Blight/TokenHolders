{
 "cells": [
  {
   "cell_type": "code",
   "execution_count": 1,
   "id": "4a13c681",
   "metadata": {},
   "outputs": [],
   "source": [
    "import polars as pl"
   ]
  },
  {
   "cell_type": "code",
   "execution_count": 17,
   "id": "24846e97",
   "metadata": {},
   "outputs": [
    {
     "data": {
      "text/html": [
       "<div><style>\n",
       ".dataframe > thead > tr > th,\n",
       ".dataframe > tbody > tr > td {\n",
       "  text-align: right;\n",
       "}\n",
       "</style>\n",
       "<small>shape: (7, 7)</small><table border=\"1\" class=\"dataframe\"><thead><tr><th>describe</th><th>block_number</th><th>from_address</th><th>to_address</th><th>value</th><th>transaction_hash</th><th>created_at</th></tr><tr><td>str</td><td>f64</td><td>str</td><td>str</td><td>f64</td><td>str</td><td>str</td></tr></thead><tbody><tr><td>&quot;count&quot;</td><td>1000.0</td><td>&quot;1000&quot;</td><td>&quot;1000&quot;</td><td>1000.0</td><td>&quot;1000&quot;</td><td>&quot;1000&quot;</td></tr><tr><td>&quot;null_count&quot;</td><td>0.0</td><td>&quot;0&quot;</td><td>&quot;0&quot;</td><td>0.0</td><td>&quot;0&quot;</td><td>&quot;0&quot;</td></tr><tr><td>&quot;mean&quot;</td><td>1.3148e7</td><td>null</td><td>null</td><td>2.8304e7</td><td>null</td><td>null</td></tr><tr><td>&quot;std&quot;</td><td>967.790642</td><td>null</td><td>null</td><td>5.5832e8</td><td>null</td><td>null</td></tr><tr><td>&quot;min&quot;</td><td>1.3130302e7</td><td>&quot;0x000000000000…</td><td>&quot;0x000000000027…</td><td>0.0</td><td>&quot;0x0026f58f33b8…</td><td>&quot;2023-04-16T16:…</td></tr><tr><td>&quot;max&quot;</td><td>1.3148221e7</td><td>&quot;0xfcb2229fb2da…</td><td>&quot;0xff8a662fab07…</td><td>1.6970e10</td><td>&quot;0xffdc26e21d65…</td><td>&quot;2023-04-16T16:…</td></tr><tr><td>&quot;median&quot;</td><td>1.314811e7</td><td>null</td><td>null</td><td>487143.310761</td><td>null</td><td>null</td></tr></tbody></table></div>"
      ],
      "text/plain": [
       "shape: (7, 7)\n",
       "┌────────────┬────────────┬────────────┬──────────────┬──────────────┬──────────────┬──────────────┐\n",
       "│ describe   ┆ block_numb ┆ from_addre ┆ to_address   ┆ value        ┆ transaction_ ┆ created_at   │\n",
       "│ ---        ┆ er         ┆ ss         ┆ ---          ┆ ---          ┆ hash         ┆ ---          │\n",
       "│ str        ┆ ---        ┆ ---        ┆ str          ┆ f64          ┆ ---          ┆ str          │\n",
       "│            ┆ f64        ┆ str        ┆              ┆              ┆ str          ┆              │\n",
       "╞════════════╪════════════╪════════════╪══════════════╪══════════════╪══════════════╪══════════════╡\n",
       "│ count      ┆ 1000.0     ┆ 1000       ┆ 1000         ┆ 1000.0       ┆ 1000         ┆ 1000         │\n",
       "│ null_count ┆ 0.0        ┆ 0          ┆ 0            ┆ 0.0          ┆ 0            ┆ 0            │\n",
       "│ mean       ┆ 1.3148e7   ┆ null       ┆ null         ┆ 2.8304e7     ┆ null         ┆ null         │\n",
       "│ std        ┆ 967.790642 ┆ null       ┆ null         ┆ 5.5832e8     ┆ null         ┆ null         │\n",
       "│ min        ┆ 1.3130302e ┆ 0x00000000 ┆ 0x0000000000 ┆ 0.0          ┆ 0x0026f58f33 ┆ 2023-04-16T1 │\n",
       "│            ┆ 7          ┆ 0000000000 ┆ 27d2efc28361 ┆              ┆ b8b38f82f595 ┆ 6:00:39.0708 │\n",
       "│            ┆            ┆ 0000000000 ┆ 3d0c3e24…    ┆              ┆ e8699ef3…    ┆ 34           │\n",
       "│            ┆            ┆ 00…        ┆              ┆              ┆              ┆              │\n",
       "│ max        ┆ 1.3148221e ┆ 0xfcb2229f ┆ 0xff8a662fab ┆ 1.6970e10    ┆ 0xffdc26e21d ┆ 2023-04-16T1 │\n",
       "│            ┆ 7          ┆ b2da163b50 ┆ 0745a5032ccf ┆              ┆ 65def56c3b92 ┆ 6:00:39.0767 │\n",
       "│            ┆            ┆ f09de04cc1 ┆ 326fd14b…    ┆              ┆ 2200187e…    ┆ 11           │\n",
       "│            ┆            ┆ 98…        ┆              ┆              ┆              ┆              │\n",
       "│ median     ┆ 1.314811e7 ┆ null       ┆ null         ┆ 487143.31076 ┆ null         ┆ null         │\n",
       "│            ┆            ┆            ┆              ┆ 1            ┆              ┆              │\n",
       "└────────────┴────────────┴────────────┴──────────────┴──────────────┴──────────────┴──────────────┘"
      ]
     },
     "execution_count": 17,
     "metadata": {},
     "output_type": "execute_result"
    }
   ],
   "source": [
    "df = pl.read_csv(\"/Users/Zachary_Royals/Documents/Code/Data-Engineer-Coding-Challenge/notebooks/doge_transfer.csv\")\n",
    "df.describe()"
   ]
  },
  {
   "cell_type": "code",
   "execution_count": 23,
   "id": "ba9ea03b",
   "metadata": {},
   "outputs": [
    {
     "data": {
      "text/plain": [
       "['0x5e5d83fd2d43b3f7aab6f2b4c21a69dd6d804f59711dec13198d4792a4e5e158',\n",
       " '0x94d91c8b1c7a060f1800911ee87d6b4667baec191adc3f480c63c5e23cbba9ea',\n",
       " '0x94d91c8b1c7a060f1800911ee87d6b4667baec191adc3f480c63c5e23cbba9ea',\n",
       " '0x2b10ae1833f8b94bba358eef1114c55d9a18874ce3c5acf6a1f2b30fc0b69458',\n",
       " '0x2b10ae1833f8b94bba358eef1114c55d9a18874ce3c5acf6a1f2b30fc0b69458']"
      ]
     },
     "execution_count": 23,
     "metadata": {},
     "output_type": "execute_result"
    }
   ],
   "source": [
    "filtered_df = df.filter(pl.col('from_address') == '0x0000000000000000000000000000000000000000')\n",
    "filtered_df['transaction_hash'].to_list()"
   ]
  },
  {
   "cell_type": "code",
   "execution_count": 19,
   "id": "aa121be8",
   "metadata": {},
   "outputs": [
    {
     "data": {
      "text/plain": [
       "['0xf5c27c6fe782cbb5c85989ea3e75754748153459',\n",
       " '0xf5c27c6fe782cbb5c85989ea3e75754748153459',\n",
       " '0x016596abf1eb19de270e0409da362496b453fab2',\n",
       " '0xf5c27c6fe782cbb5c85989ea3e75754748153459',\n",
       " '0x016596abf1eb19de270e0409da362496b453fab2']"
      ]
     },
     "execution_count": 19,
     "metadata": {},
     "output_type": "execute_result"
    }
   ],
   "source": [
    "filtered_df['to_address'].to_list()"
   ]
  },
  {
   "cell_type": "code",
   "execution_count": null,
   "id": "3e98ecae",
   "metadata": {},
   "outputs": [],
   "source": []
  }
 ],
 "metadata": {
  "kernelspec": {
   "display_name": "Python 3 (ipykernel)",
   "language": "python",
   "name": "python3"
  },
  "language_info": {
   "codemirror_mode": {
    "name": "ipython",
    "version": 3
   },
   "file_extension": ".py",
   "mimetype": "text/x-python",
   "name": "python",
   "nbconvert_exporter": "python",
   "pygments_lexer": "ipython3",
   "version": "3.9.6"
  }
 },
 "nbformat": 4,
 "nbformat_minor": 5
}
