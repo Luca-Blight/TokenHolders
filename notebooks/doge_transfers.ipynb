{
 "cells": [
  {
   "cell_type": "code",
   "execution_count": 6,
   "id": "4a13c681",
   "metadata": {},
   "outputs": [],
   "source": [
    "import polars as pl\n",
    "from datetime import datetime"
   ]
  },
  {
   "cell_type": "code",
   "execution_count": 7,
   "id": "24846e97",
   "metadata": {},
   "outputs": [
    {
     "data": {
      "text/plain": [
       "102024435642623315112879587484257117649024573705785416932870524570497794789790"
      ]
     },
     "execution_count": 7,
     "metadata": {},
     "output_type": "execute_result"
    }
   ],
   "source": [
    "df = pl.read_csv(\"/Users/Zachary_Royals/Documents/Code/Data-Engineer-Coding-Challenge/notebooks/doge_transfer.csv\")\n",
    "df.describe()\n",
    "0xe18fc8c20f70b9e5fa7b5753bd962176c2b568a68a89cdea95566d65490d519e\n",
    "\n",
    "\n",
    "\n",
    "# {'block_number': 13148020, 'from_address': '0x1d6e8bac6ea3730825bde4b005ed7b2b39a2932d', 'to_address': '0xc96f20099d96b37d7ede66ff9e4de59b9b1065b1', 'value': 11457663.15230496, \n",
    "#  'transaction_hash': '0xe18fc8c20f70b9e5fa7b5753bd962176c2b568a68a89cdea95566d65490d519e', \n",
    "#  'block_date': datetime.datetime(2021, 9, 2, 18, 59, 30), 'transaction_idx': 2, 'created_at': datetime.datetime(2023, 4, 17, 10, 51, 47, 856893)}"
   ]
  },
  {
   "cell_type": "code",
   "execution_count": 9,
   "id": "ba9ea03b",
   "metadata": {},
   "outputs": [
    {
     "data": {
      "text/html": [
       "<div><style>\n",
       ".dataframe > thead > tr > th,\n",
       ".dataframe > tbody > tr > td {\n",
       "  text-align: right;\n",
       "}\n",
       "</style>\n",
       "<small>shape: (26, 8)</small><table border=\"1\" class=\"dataframe\"><thead><tr><th>block_number</th><th>from_address</th><th>to_address</th><th>value</th><th>transaction_hash</th><th>block_date</th><th>transaction_idx</th><th>created_at</th></tr><tr><td>i64</td><td>str</td><td>str</td><td>f64</td><td>str</td><td>str</td><td>i64</td><td>str</td></tr></thead><tbody><tr><td>13148020</td><td>&quot;0xc96f20099d96…</td><td>&quot;0x1d6e8bac6ea3…</td><td>1.1458e7</td><td>&quot;0xcd88b1e53242…</td><td>&quot;2021-09-02T18:…</td><td>0</td><td>&quot;2023-04-17T17:…</td></tr><tr><td>13148020</td><td>&quot;0x1d6e8bac6ea3…</td><td>&quot;0xc96f20099d96…</td><td>1.1458e7</td><td>&quot;0xe18fc8c20f70…</td><td>&quot;2021-09-02T18:…</td><td>2</td><td>&quot;2023-04-17T17:…</td></tr><tr><td>13148065</td><td>&quot;0xc96f20099d96…</td><td>&quot;0x1d6e8bac6ea3…</td><td>1.4374e7</td><td>&quot;0x23e4cd1ce143…</td><td>&quot;2021-09-02T19:…</td><td>0</td><td>&quot;2023-04-17T17:…</td></tr><tr><td>13148065</td><td>&quot;0x1d6e8bac6ea3…</td><td>&quot;0xc96f20099d96…</td><td>1.4374e7</td><td>&quot;0xdaf30bf75fb3…</td><td>&quot;2021-09-02T19:…</td><td>2</td><td>&quot;2023-04-17T17:…</td></tr><tr><td>13148078</td><td>&quot;0xc96f20099d96…</td><td>&quot;0x1d6e8bac6ea3…</td><td>3.1927e6</td><td>&quot;0x22a13d13d385…</td><td>&quot;2021-09-02T19:…</td><td>0</td><td>&quot;2023-04-17T17:…</td></tr><tr><td>13148078</td><td>&quot;0x1d6e8bac6ea3…</td><td>&quot;0xc96f20099d96…</td><td>3.1927e6</td><td>&quot;0xe6bc9679c204…</td><td>&quot;2021-09-02T19:…</td><td>2</td><td>&quot;2023-04-17T17:…</td></tr><tr><td>13148087</td><td>&quot;0xc96f20099d96…</td><td>&quot;0x1d6e8bac6ea3…</td><td>1.7818e6</td><td>&quot;0x3e989df163ef…</td><td>&quot;2021-09-02T19:…</td><td>0</td><td>&quot;2023-04-17T17:…</td></tr><tr><td>13148087</td><td>&quot;0x1d6e8bac6ea3…</td><td>&quot;0xc96f20099d96…</td><td>1.7818e6</td><td>&quot;0x3263d75cb3a4…</td><td>&quot;2021-09-02T19:…</td><td>2</td><td>&quot;2023-04-17T17:…</td></tr><tr><td>13148112</td><td>&quot;0xc96f20099d96…</td><td>&quot;0x1d6e8bac6ea3…</td><td>3.5714e6</td><td>&quot;0x3a0b8f9345c2…</td><td>&quot;2021-09-02T19:…</td><td>0</td><td>&quot;2023-04-17T17:…</td></tr><tr><td>13148112</td><td>&quot;0x1d6e8bac6ea3…</td><td>&quot;0xc96f20099d96…</td><td>3.5714e6</td><td>&quot;0xe1a7cfb0ffa7…</td><td>&quot;2021-09-02T19:…</td><td>2</td><td>&quot;2023-04-17T17:…</td></tr><tr><td>13148119</td><td>&quot;0xc96f20099d96…</td><td>&quot;0x1d6e8bac6ea3…</td><td>1.0588e6</td><td>&quot;0xc49f098edadb…</td><td>&quot;2021-09-02T19:…</td><td>0</td><td>&quot;2023-04-17T17:…</td></tr><tr><td>13148119</td><td>&quot;0x1d6e8bac6ea3…</td><td>&quot;0xc96f20099d96…</td><td>1.0588e6</td><td>&quot;0x5f4b8ee66fbb…</td><td>&quot;2021-09-02T19:…</td><td>2</td><td>&quot;2023-04-17T17:…</td></tr><tr><td>&hellip;</td><td>&hellip;</td><td>&hellip;</td><td>&hellip;</td><td>&hellip;</td><td>&hellip;</td><td>&hellip;</td><td>&hellip;</td></tr><tr><td>13148159</td><td>&quot;0xc96f20099d96…</td><td>&quot;0x1d6e8bac6ea3…</td><td>1.1851e7</td><td>&quot;0x04cd173ec74e…</td><td>&quot;2021-09-02T19:…</td><td>0</td><td>&quot;2023-04-17T17:…</td></tr><tr><td>13148159</td><td>&quot;0x1d6e8bac6ea3…</td><td>&quot;0xc96f20099d96…</td><td>1.1851e7</td><td>&quot;0xe846b62adefc…</td><td>&quot;2021-09-02T19:…</td><td>2</td><td>&quot;2023-04-17T17:…</td></tr><tr><td>13148161</td><td>&quot;0xc96f20099d96…</td><td>&quot;0x1d6e8bac6ea3…</td><td>1.2861e7</td><td>&quot;0x9bc11fbe8de4…</td><td>&quot;2021-09-02T19:…</td><td>0</td><td>&quot;2023-04-17T17:…</td></tr><tr><td>13148161</td><td>&quot;0x1d6e8bac6ea3…</td><td>&quot;0xc96f20099d96…</td><td>1.2861e7</td><td>&quot;0x1368959482ae…</td><td>&quot;2021-09-02T19:…</td><td>2</td><td>&quot;2023-04-17T17:…</td></tr><tr><td>13148163</td><td>&quot;0xc96f20099d96…</td><td>&quot;0x1d6e8bac6ea3…</td><td>3.2581e7</td><td>&quot;0x7601b7a73652…</td><td>&quot;2021-09-02T19:…</td><td>0</td><td>&quot;2023-04-17T17:…</td></tr><tr><td>13148163</td><td>&quot;0x1d6e8bac6ea3…</td><td>&quot;0xc96f20099d96…</td><td>3.2581e7</td><td>&quot;0xfef6799e6478…</td><td>&quot;2021-09-02T19:…</td><td>2</td><td>&quot;2023-04-17T17:…</td></tr><tr><td>13148166</td><td>&quot;0xc96f20099d96…</td><td>&quot;0x1d6e8bac6ea3…</td><td>4.2943e6</td><td>&quot;0x74e03d944232…</td><td>&quot;2021-09-02T19:…</td><td>0</td><td>&quot;2023-04-17T17:…</td></tr><tr><td>13148166</td><td>&quot;0x1d6e8bac6ea3…</td><td>&quot;0xc96f20099d96…</td><td>4.2943e6</td><td>&quot;0x7f51fb188ced…</td><td>&quot;2021-09-02T19:…</td><td>2</td><td>&quot;2023-04-17T17:…</td></tr><tr><td>13148175</td><td>&quot;0xc96f20099d96…</td><td>&quot;0x1d6e8bac6ea3…</td><td>4.3756e6</td><td>&quot;0xc67c01171450…</td><td>&quot;2021-09-02T19:…</td><td>3</td><td>&quot;2023-04-17T17:…</td></tr><tr><td>13148175</td><td>&quot;0x1d6e8bac6ea3…</td><td>&quot;0xc96f20099d96…</td><td>4.3756e6</td><td>&quot;0x0adb7674eb4e…</td><td>&quot;2021-09-02T19:…</td><td>5</td><td>&quot;2023-04-17T17:…</td></tr><tr><td>13148210</td><td>&quot;0xc96f20099d96…</td><td>&quot;0x1d6e8bac6ea3…</td><td>3.0964e6</td><td>&quot;0xb38e76010990…</td><td>&quot;2021-09-02T19:…</td><td>1</td><td>&quot;2023-04-17T17:…</td></tr><tr><td>13148210</td><td>&quot;0x1d6e8bac6ea3…</td><td>&quot;0xc96f20099d96…</td><td>3.0964e6</td><td>&quot;0x481ada7a1410…</td><td>&quot;2021-09-02T19:…</td><td>3</td><td>&quot;2023-04-17T17:…</td></tr></tbody></table></div>"
      ],
      "text/plain": [
       "shape: (26, 8)\n",
       "┌────────────┬────────────┬──────────┬──────────┬────────────┬──────────┬────────────┬─────────────┐\n",
       "│ block_numb ┆ from_addre ┆ to_addre ┆ value    ┆ transactio ┆ block_da ┆ transactio ┆ created_at  │\n",
       "│ er         ┆ ss         ┆ ss       ┆ ---      ┆ n_hash     ┆ te       ┆ n_idx      ┆ ---         │\n",
       "│ ---        ┆ ---        ┆ ---      ┆ f64      ┆ ---        ┆ ---      ┆ ---        ┆ str         │\n",
       "│ i64        ┆ str        ┆ str      ┆          ┆ str        ┆ str      ┆ i64        ┆             │\n",
       "╞════════════╪════════════╪══════════╪══════════╪════════════╪══════════╪════════════╪═════════════╡\n",
       "│ 13148020   ┆ 0xc96f2009 ┆ 0x1d6e8b ┆ 1.1458e7 ┆ 0xcd88b1e5 ┆ 2021-09- ┆ 0          ┆ 2023-04-17T │\n",
       "│            ┆ 9d96b37d7e ┆ ac6ea373 ┆          ┆ 3242f1d14b ┆ 02T18:59 ┆            ┆ 17:16:55.20 │\n",
       "│            ┆ de66ff9e4d ┆ 0825bde4 ┆          ┆ f9c2ccf95e ┆ :30.0000 ┆            ┆ 5663        │\n",
       "│            ┆ e5…        ┆ b005ed7b ┆          ┆ 1a…        ┆ 00       ┆            ┆             │\n",
       "│            ┆            ┆ …        ┆          ┆            ┆          ┆            ┆             │\n",
       "│ 13148020   ┆ 0x1d6e8bac ┆ 0xc96f20 ┆ 1.1458e7 ┆ 0xe18fc8c2 ┆ 2021-09- ┆ 2          ┆ 2023-04-17T │\n",
       "│            ┆ 6ea3730825 ┆ 099d96b3 ┆          ┆ 0f70b9e5fa ┆ 02T18:59 ┆            ┆ 17:16:55.51 │\n",
       "│            ┆ bde4b005ed ┆ 7d7ede66 ┆          ┆ 7b5753bd96 ┆ :30.0000 ┆            ┆ 9421        │\n",
       "│            ┆ 7b…        ┆ ff9e4de5 ┆          ┆ 21…        ┆ 00       ┆            ┆             │\n",
       "│            ┆            ┆ …        ┆          ┆            ┆          ┆            ┆             │\n",
       "│ 13148065   ┆ 0xc96f2009 ┆ 0x1d6e8b ┆ 1.4374e7 ┆ 0x23e4cd1c ┆ 2021-09- ┆ 0          ┆ 2023-04-17T │\n",
       "│            ┆ 9d96b37d7e ┆ ac6ea373 ┆          ┆ e143e5906e ┆ 02T19:07 ┆            ┆ 17:17:29.73 │\n",
       "│            ┆ de66ff9e4d ┆ 0825bde4 ┆          ┆ f56d742dc1 ┆ :56.0000 ┆            ┆ 6648        │\n",
       "│            ┆ e5…        ┆ b005ed7b ┆          ┆ 43…        ┆ 00       ┆            ┆             │\n",
       "│            ┆            ┆ …        ┆          ┆            ┆          ┆            ┆             │\n",
       "│ 13148065   ┆ 0x1d6e8bac ┆ 0xc96f20 ┆ 1.4374e7 ┆ 0xdaf30bf7 ┆ 2021-09- ┆ 2          ┆ 2023-04-17T │\n",
       "│            ┆ 6ea3730825 ┆ 099d96b3 ┆          ┆ 5fb387dc89 ┆ 02T19:07 ┆            ┆ 17:17:29.98 │\n",
       "│            ┆ bde4b005ed ┆ 7d7ede66 ┆          ┆ 5991a5e6a1 ┆ :56.0000 ┆            ┆ 7100        │\n",
       "│            ┆ 7b…        ┆ ff9e4de5 ┆          ┆ c3…        ┆ 00       ┆            ┆             │\n",
       "│            ┆            ┆ …        ┆          ┆            ┆          ┆            ┆             │\n",
       "│ …          ┆ …          ┆ …        ┆ …        ┆ …          ┆ …        ┆ …          ┆ …           │\n",
       "│ 13148175   ┆ 0xc96f2009 ┆ 0x1d6e8b ┆ 4.3756e6 ┆ 0xc67c0117 ┆ 2021-09- ┆ 3          ┆ 2023-04-17T │\n",
       "│            ┆ 9d96b37d7e ┆ ac6ea373 ┆          ┆ 1450ba6e00 ┆ 02T19:32 ┆            ┆ 17:18:41.87 │\n",
       "│            ┆ de66ff9e4d ┆ 0825bde4 ┆          ┆ 2878a4e684 ┆ :35.0000 ┆            ┆ 6446        │\n",
       "│            ┆ e5…        ┆ b005ed7b ┆          ┆ 49…        ┆ 00       ┆            ┆             │\n",
       "│            ┆            ┆ …        ┆          ┆            ┆          ┆            ┆             │\n",
       "│ 13148175   ┆ 0x1d6e8bac ┆ 0xc96f20 ┆ 4.3756e6 ┆ 0x0adb7674 ┆ 2021-09- ┆ 5          ┆ 2023-04-17T │\n",
       "│            ┆ 6ea3730825 ┆ 099d96b3 ┆          ┆ eb4eadc578 ┆ 02T19:32 ┆            ┆ 17:18:42.12 │\n",
       "│            ┆ bde4b005ed ┆ 7d7ede66 ┆          ┆ d3f082aef3 ┆ :35.0000 ┆            ┆ 4109        │\n",
       "│            ┆ 7b…        ┆ ff9e4de5 ┆          ┆ 17…        ┆ 00       ┆            ┆             │\n",
       "│            ┆            ┆ …        ┆          ┆            ┆          ┆            ┆             │\n",
       "│ 13148210   ┆ 0xc96f2009 ┆ 0x1d6e8b ┆ 3.0964e6 ┆ 0xb38e7601 ┆ 2021-09- ┆ 1          ┆ 2023-04-17T │\n",
       "│            ┆ 9d96b37d7e ┆ ac6ea373 ┆          ┆ 0990b2d282 ┆ 02T19:39 ┆            ┆ 17:19:00.78 │\n",
       "│            ┆ de66ff9e4d ┆ 0825bde4 ┆          ┆ 2215e93265 ┆ :49.0000 ┆            ┆ 1018        │\n",
       "│            ┆ e5…        ┆ b005ed7b ┆          ┆ 53…        ┆ 00       ┆            ┆             │\n",
       "│            ┆            ┆ …        ┆          ┆            ┆          ┆            ┆             │\n",
       "│ 13148210   ┆ 0x1d6e8bac ┆ 0xc96f20 ┆ 3.0964e6 ┆ 0x481ada7a ┆ 2021-09- ┆ 3          ┆ 2023-04-17T │\n",
       "│            ┆ 6ea3730825 ┆ 099d96b3 ┆          ┆ 14106b30bd ┆ 02T19:39 ┆            ┆ 17:19:01.02 │\n",
       "│            ┆ bde4b005ed ┆ 7d7ede66 ┆          ┆ 8f9cf60437 ┆ :49.0000 ┆            ┆ 2389        │\n",
       "│            ┆ 7b…        ┆ ff9e4de5 ┆          ┆ ae…        ┆ 00       ┆            ┆             │\n",
       "│            ┆            ┆ …        ┆          ┆            ┆          ┆            ┆             │\n",
       "└────────────┴────────────┴──────────┴──────────┴────────────┴──────────┴────────────┴─────────────┘"
      ]
     },
     "execution_count": 9,
     "metadata": {},
     "output_type": "execute_result"
    }
   ],
   "source": [
    "filtered_df = df.filter((pl.col('from_address') == '0x1d6e8bac6ea3730825bde4b005ed7b2b39a2932d') | ( pl.col('to_address') == '0x1d6e8bac6ea3730825bde4b005ed7b2b39a2932d'))\n",
    "{'block_number': 13148065, 'from_address': '0x1d6e8bac6ea3730825bde4b005ed7b2b39a2932d', 'to_address': '0xc96f20099d96b37d7ede66ff9e4de59b9b1065b1', 'value': 14373609.557031227, 'transaction_hash': '0xdaf30bf75fb387dc895991a5e6a1c362054a63e3286bb055ad183b774a874b1a', 'block_date': datetime.datetime(2021, 9, 2, 19, 7, 56), 'transaction_idx': 2, 'created_at': datetime.datetime(2023, 4, 17, 17, 17, 29, 987100)}"
   ]
  },
  {
   "cell_type": "code",
   "execution_count": 4,
   "id": "aa121be8",
   "metadata": {},
   "outputs": [
    {
     "data": {
      "text/plain": [
       "109091656165601615750723658782850300080615752526551521880077489695134674100384"
      ]
     },
     "execution_count": 4,
     "metadata": {},
     "output_type": "execute_result"
    }
   ],
   "source": [
    "filtered_df\n",
    "0xf12fb074619ad32c7fd6a00d89c44efdb4e02f502bc3bfab7ac9fa2b8690a0a0"
   ]
  },
  {
   "cell_type": "code",
   "execution_count": null,
   "id": "e6460d94",
   "metadata": {},
   "outputs": [],
   "source": []
  }
 ],
 "metadata": {
  "kernelspec": {
   "display_name": "Python 3 (ipykernel)",
   "language": "python",
   "name": "python3"
  },
  "language_info": {
   "codemirror_mode": {
    "name": "ipython",
    "version": 3
   },
   "file_extension": ".py",
   "mimetype": "text/x-python",
   "name": "python",
   "nbconvert_exporter": "python",
   "pygments_lexer": "ipython3",
   "version": "3.9.6"
  }
 },
 "nbformat": 4,
 "nbformat_minor": 5
}
